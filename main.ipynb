{
 "cells": [
  {
   "cell_type": "code",
   "execution_count": 2,
   "metadata": {},
   "outputs": [
    {
     "name": "stderr",
     "output_type": "stream",
     "text": [
      "2024-10-18 11:54:49.843062: I tensorflow/core/platform/cpu_feature_guard.cc:210] This TensorFlow binary is optimized to use available CPU instructions in performance-critical operations.\n",
      "To enable the following instructions: AVX2 FMA, in other operations, rebuild TensorFlow with the appropriate compiler flags.\n",
      "2024-10-18 11:54:55.736961: W tensorflow/compiler/tf2tensorrt/utils/py_utils.cc:38] TF-TRT Warning: Could not find TensorRT\n"
     ]
    }
   ],
   "source": [
    "import os\n",
    "import torch as t\n",
    "from models import load_model\n",
    "from attacks import ControlSingleTokenAttack, ControlMultipleTokensAttack, JailbreakAttack\n",
    "# from data import load_dataset\n",
    "from config import *\n",
    "from utils import *\n",
    "import matplotlib.pyplot as plt\n",
    "import wandb\n",
    "from custom_image_transforms import CustomTransforms\n",
    "from torchvision import transforms\n",
    "from PIL import Image\n",
    "import pandas as pd"
   ]
  },
  {
   "cell_type": "code",
   "execution_count": 1,
   "metadata": {},
   "outputs": [
    {
     "name": "stdout",
     "output_type": "stream",
     "text": [
      "Note: you may need to restart the kernel to use updated packages.\n",
      "\u001b[01;31m\u001b[Ktransformers\u001b[m\u001b[K                  4.43.1\n",
      "Note: you may need to restart the kernel to use updated packages.\n",
      "Note: you may need to restart the kernel to use updated packages.\n",
      "\u001b[01;31m\u001b[Kaccelerate\u001b[m\u001b[K                    0.34.2\n",
      "Note: you may need to restart the kernel to use updated packages.\n"
     ]
    }
   ],
   "source": [
    "%pip install -q einops attrdict3 wandb llava\n",
    "%pip list | grep transformers\n",
    "%pip list | grep bitsandbytes\n",
    "%pip list | grep accelerate"
   ]
  },
  {
   "cell_type": "code",
   "execution_count": null,
   "metadata": {},
   "outputs": [],
   "source": [
    "wandb.login(key=WANDB_KEY)"
   ]
  },
  {
   "cell_type": "markdown",
   "metadata": {},
   "source": [
    "# Load model and tokenizer"
   ]
  },
  {
   "cell_type": "code",
   "execution_count": null,
   "metadata": {},
   "outputs": [],
   "source": [
    "model, processor = load_model(MODEL)\n",
    "# train_data, test_data = load_dataset(DATASET_PATH)"
   ]
  },
  {
   "cell_type": "code",
   "execution_count": null,
   "metadata": {},
   "outputs": [],
   "source": [
    "from attrdict import AttrDict # this needs to be important after deepseek_v1, because there's a patch needed for the 'collections' module"
   ]
  },
  {
   "cell_type": "code",
   "execution_count": null,
   "metadata": {},
   "outputs": [],
   "source": [
    "if MODEL == 'DeepSeek-VL':\n",
    "    from deepseek_vl.models import VLChatProcessor\n",
    "    from deepseek_vl.utils.io import load_pil_images\n",
    "    from VLM_base_classes import DeepSeekVLBaseClass\n",
    "\n",
    "    img_size = processor.image_processor.image_size\n",
    "\n",
    "    base_model_class = DeepSeekVLBaseClass\n",
    "    attack_config = attack_config_DeepSeek + wandb_config\n",
    "elif MODEL == 'LLaVa':\n",
    "    from VLM_base_classes import LlavaBaseClass\n",
    "\n",
    "    img_size = model.config.vision_config.image_size\n",
    "    model.config.image_grid_pinpoints.append([img_size, img_size])\n",
    "    print('LLaVa grid points: ', model.config.image_grid_pinpoints)\n",
    "\n",
    "    base_model_class = LlavaBaseClass\n",
    "    attack_config = attack_config_Llava + wandb_config\n",
    "else:\n",
    "    raise NotImplementedError(f'Model {MODEL} not implemented yet.')\n",
    "\n",
    "base_instance = base_model_class(attack_config, model, processor)"
   ]
  },
  {
   "cell_type": "markdown",
   "metadata": {},
   "source": [
    "Put model in eval mode and switch off gradients:"
   ]
  },
  {
   "cell_type": "code",
   "execution_count": null,
   "metadata": {},
   "outputs": [],
   "source": [
    "model.eval();\n",
    "\n",
    "if model.training:\n",
    "    print('Model is in training mode')\n",
    "else:\n",
    "    print('Model is in eval mode')\n",
    "\n",
    "# we're only interested in computing the gradients wrt the input images, not the internal parameters\n",
    "for name, param in model.named_parameters():\n",
    "    param.requires_grad = False"
   ]
  },
  {
   "cell_type": "markdown",
   "metadata": {},
   "source": [
    "Define the processor so that we can pre-process the prompt+image into a format accepted by the model. This includes a normalisation step."
   ]
  },
  {
   "cell_type": "code",
   "execution_count": null,
   "metadata": {},
   "outputs": [],
   "source": [
    "tokenizer = processor.tokenizer\n",
    "\n",
    "processor_mean = t.tensor(processor.image_processor.image_mean).to(DEVICE)\n",
    "processor_std = t.tensor(processor.image_processor.image_std).to(DEVICE)\n",
    "print(f'{processor_mean=}')\n",
    "print(f'{processor_std=}')\n",
    "\n",
    "print(f'{img_size=}')"
   ]
  },
  {
   "cell_type": "code",
   "execution_count": 4,
   "metadata": {},
   "outputs": [
    {
     "data": {
      "image/jpeg": "[encoded data removed]",
      "image/png": "[encoded data removed]",
      "text/plain": [
       "<PIL.Image.Image image mode=RGB size=100x100>"
      ]
     },
     "execution_count": 4,
     "metadata": {},
     "output_type": "execute_result"
    }
   ],
   "source": [
    "img_url = \"https://wp.inews.co.uk/wp-content/uploads/2023/03/SEI_149780351.jpg?crop=157px%2C0px%2C1537px%2C1537px&resize=640%2C640\"\n",
    "img_path = os.path.join(os.getcwd(), 'test_image.jpg')\n",
    "\n",
    "img = open_image_from_url(img_url)\n",
    "img_size = 100\n",
    "img = img.resize((img_size, img_size))\n",
    "img.save(img_path)\n",
    "img"
   ]
  },
  {
   "cell_type": "code",
   "execution_count": 6,
   "metadata": {},
   "outputs": [
    {
     "data": {
      "text/plain": [
       "PIL.Image.Image"
      ]
     },
     "execution_count": 6,
     "metadata": {},
     "output_type": "execute_result"
    }
   ],
   "source": [
    "type(img)"
   ]
  },
  {
   "cell_type": "markdown",
   "metadata": {},
   "source": [
    "# Attacks"
   ]
  },
  {
   "cell_type": "code",
   "execution_count": null,
   "metadata": {},
   "outputs": [],
   "source": [
    "test_prompt = \"What is shown in this image?\"\n",
    "test_target = \"dog\""
   ]
  },
  {
   "cell_type": "markdown",
   "metadata": {},
   "source": [
    "## Single-token attack"
   ]
  },
  {
   "cell_type": "markdown",
   "metadata": {},
   "source": [
    "In this attack, we are optimising using only a single target output token, e.g. 'dog'."
   ]
  },
  {
   "cell_type": "code",
   "execution_count": null,
   "metadata": {},
   "outputs": [],
   "source": [
    "single_token_attack = ControlSingleTokenAttack(attack_config, model, processor)\n",
    "init_image, delta, loss_train = single_token_attack.train_attack(test_prompt, img)"
   ]
  },
  {
   "cell_type": "code",
   "execution_count": null,
   "metadata": {},
   "outputs": [],
   "source": [
    "# we can import saved data from wandb with:\n",
    "# api = wandb.Api()\n",
    "# wandb_run = api.run(run_path)\n",
    "# wandb_run.file('sample_data/' + 'init_image.pt' ).download(replace=True)\n",
    "# loaded_tensor = t.load(\"sample_data/init_image.pt\")\n",
    "# assert t.equal(init_image, loaded_tensor) == True"
   ]
  },
  {
   "cell_type": "markdown",
   "metadata": {},
   "source": [
    "The standard way to execute the attack is to suply the initial image and the perturbation `delta`. Both will be tensors: `image` is in the range $[0.0, 1.0]$, `delta` might spill outside of the range $[-1.0, 1.0]$ and is clamped within the function call.\n"
   ]
  },
  {
   "cell_type": "code",
   "execution_count": null,
   "metadata": {},
   "outputs": [],
   "source": [
    "# use the default processing pipeline with autoregressive generation\n",
    "# max_new_tokens is set to 10\n",
    "output, answer = single_token_attack.execute_attack(prompt=test_prompt, image=init_image, delta=delta, \n",
    "                                                    max_new_tokens=10, no_eos_token=True,\n",
    "                                                    do_sample=True, top_p=0.95, top_k=20)\n",
    "print(answer)"
   ]
  },
  {
   "cell_type": "markdown",
   "metadata": {},
   "source": [
    "Alternatively, we can supply an adversarial image (inital + perturbation). This needs to be a tensor in the range $[0, 255.0]$ and the perturbation needs to be clamped manually."
   ]
  },
  {
   "cell_type": "code",
   "execution_count": null,
   "metadata": {},
   "outputs": [],
   "source": [
    "adversarial_image = (init_image + attack_config.eps*delta.clamp(-1, 1)).clamp(0, 1) * 255\n",
    "\n",
    "output_v2, answer_v2 = single_token_attack.execute_attack(prompt=test_prompt, \n",
    "                                                        adversarial_image=adversarial_image, \n",
    "                                                        max_new_tokens=10, no_eos_token=True, \n",
    "                                                        do_sample=True, top_p=0.95, top_k=20)\n",
    "print(answer_v2)"
   ]
  },
  {
   "cell_type": "code",
   "execution_count": null,
   "metadata": {},
   "outputs": [],
   "source": [
    "single_token_attack.finish_wandb_logging()"
   ]
  },
  {
   "cell_type": "markdown",
   "metadata": {},
   "source": [
    "## Multi-token attack"
   ]
  },
  {
   "cell_type": "markdown",
   "metadata": {},
   "source": [
    "In this attack, we are optimising using multiple target output tokens, e.g. ['dog', 'on', 'a', 'bike']. For this reason, we introduce two training methods:\n",
    "- 'autogregressive' -- using a prompt of length $n$, we generate the prediction for token in the $n+1$ position. This new token is appended to the original prompt, and now the new prompt of length $n+1$ is used to generate another token at position $n+2$. This proceeds recursively until we run out of target tokens.\n",
    "- 'teacher_forcing' -- we append the actualy target tokens to the starting prompt, no matter if these were the actual tokens generated by the model or not. This method is supposed to smoothen out the loss curve by `keeping the model on track' despite prediction errors. The name ocmes from a scenario where a school teacher allows the student to view the correct answer in the first part of the test (even though the student was not able to solve this part), so that they can still attempt the next part."
   ]
  },
  {
   "cell_type": "code",
   "execution_count": null,
   "metadata": {},
   "outputs": [],
   "source": [
    "multi_token_attack = ControlMultipleTokensAttack(attack_config, model, processor, wandb_name='autoregressive')\n",
    "# init_image, delta, loss_train = multi_token_attack.train_attack(prompt, img, training_method='teacher_forcing')\n",
    "init_image, delta, loss_train = multi_token_attack.train_attack(test_prompt, img, training_method='autoregressive')"
   ]
  },
  {
   "cell_type": "markdown",
   "metadata": {},
   "source": [
    "There are also two generation methods:\n",
    "- 'automatic' -- we use the model's autoregressive generation method.\n",
    "- 'manual' -- we manually generate the next token in the sequence using the model's logits."
   ]
  },
  {
   "cell_type": "code",
   "execution_count": null,
   "metadata": {},
   "outputs": [],
   "source": [
    "logits, answer = multi_token_attack.execute_attack(test_prompt, init_image, delta,\n",
    "                                                   generation_method='automatic', max_new_tokens=5, no_eos_token=True,\n",
    "                                                   do_sample=True, top_p=0.95, top_k=20)\n",
    "print(answer)\n",
    "logits, answer = multi_token_attack.execute_attack(test_prompt, init_image, delta,\n",
    "                                                   generation_method='manual', max_new_tokens=5, no_eos_token=True,\n",
    "                                                    do_sample=True, top_p=0.95, top_k=20)\n",
    "print(answer)"
   ]
  },
  {
   "cell_type": "code",
   "execution_count": null,
   "metadata": {},
   "outputs": [],
   "source": [
    "plt.plot(loss_train)\n",
    "plt.show()"
   ]
  },
  {
   "cell_type": "code",
   "execution_count": null,
   "metadata": {},
   "outputs": [],
   "source": [
    "multi_token_attack.finish_wandb()"
   ]
  },
  {
   "cell_type": "markdown",
   "metadata": {},
   "source": [
    "## Jailbreaking"
   ]
  },
  {
   "cell_type": "code",
   "execution_count": 7,
   "metadata": {},
   "outputs": [
    {
     "name": "stderr",
     "output_type": "stream",
     "text": [
      "Failed to detect the name of this notebook, you can set it manually with the WANDB_NOTEBOOK_NAME environment variable to enable code saving.\n",
      "\u001b[34m\u001b[1mwandb\u001b[0m: Logging into wandb.ai. (Learn how to deploy a W&B server locally: https://wandb.me/wandb-server)\n",
      "\u001b[34m\u001b[1mwandb\u001b[0m: You can find your API key in your browser here: https://wandb.ai/authorize\n",
      "\u001b[34m\u001b[1mwandb\u001b[0m: Paste an API key from your profile and hit enter, or press ctrl+c to quit:\n"
     ]
    },
    {
     "ename": "Abort",
     "evalue": "",
     "output_type": "error",
     "traceback": [
      "\u001b[0;31m---------------------------------------------------------------------------\u001b[0m",
      "\u001b[0;31mAbort\u001b[0m                                     Traceback (most recent call last)",
      "Cell \u001b[0;32mIn[7], line 4\u001b[0m\n\u001b[1;32m      2\u001b[0m wandb_run_name \u001b[38;5;241m=\u001b[39m \u001b[38;5;124m'\u001b[39m\u001b[38;5;124mkryjak-None/pivotal_adv_attacks/nepwz08b\u001b[39m\u001b[38;5;124m'\u001b[39m\n\u001b[1;32m      3\u001b[0m wandb_run_id \u001b[38;5;241m=\u001b[39m wandb_run_name\u001b[38;5;241m.\u001b[39msplit(\u001b[38;5;124m'\u001b[39m\u001b[38;5;124m/\u001b[39m\u001b[38;5;124m'\u001b[39m)[\u001b[38;5;241m-\u001b[39m\u001b[38;5;241m1\u001b[39m]\n\u001b[0;32m----> 4\u001b[0m \u001b[43mload_data_from_wandb\u001b[49m\u001b[43m(\u001b[49m\u001b[43mwandb_run_name\u001b[49m\u001b[43m)\u001b[49m\n",
      "File \u001b[0;32m~/Desktop/Programming/Pivotal_project/utils.py:91\u001b[0m, in \u001b[0;36mload_data_from_wandb\u001b[0;34m(wandb_run_name)\u001b[0m\n\u001b[1;32m     89\u001b[0m \u001b[38;5;28;01mdef\u001b[39;00m \u001b[38;5;21mload_data_from_wandb\u001b[39m(wandb_run_name: \u001b[38;5;28mstr\u001b[39m) \u001b[38;5;241m-\u001b[39m\u001b[38;5;241m>\u001b[39m \u001b[38;5;28;01mNone\u001b[39;00m:\n\u001b[1;32m     90\u001b[0m     wandb_api \u001b[38;5;241m=\u001b[39m wandb\u001b[38;5;241m.\u001b[39mApi()\n\u001b[0;32m---> 91\u001b[0m     run \u001b[38;5;241m=\u001b[39m wandb_api\u001b[38;5;241m.\u001b[39mrun(wandb_run_name)\n\u001b[1;32m     92\u001b[0m     files \u001b[38;5;241m=\u001b[39m [f\u001b[38;5;241m.\u001b[39mname \u001b[38;5;28;01mfor\u001b[39;00m f \u001b[38;5;129;01min\u001b[39;00m run\u001b[38;5;241m.\u001b[39mfiles() \u001b[38;5;28;01mif\u001b[39;00m f\u001b[38;5;241m.\u001b[39mname\u001b[38;5;241m.\u001b[39mendswith(\u001b[38;5;124m'\u001b[39m\u001b[38;5;124m.pt\u001b[39m\u001b[38;5;124m'\u001b[39m)]\n\u001b[1;32m     94\u001b[0m     summary \u001b[38;5;241m=\u001b[39m run\u001b[38;5;241m.\u001b[39msummary\n",
      "File \u001b[0;32m~/.local/lib/python3.12/site-packages/wandb/apis/public/api.py:240\u001b[0m, in \u001b[0;36mApi.__init__\u001b[0;34m(self, overrides, timeout, api_key)\u001b[0m\n\u001b[1;32m    238\u001b[0m \u001b[38;5;28mself\u001b[39m\u001b[38;5;241m.\u001b[39m_api_key \u001b[38;5;241m=\u001b[39m api_key\n\u001b[1;32m    239\u001b[0m \u001b[38;5;28;01mif\u001b[39;00m \u001b[38;5;28mself\u001b[39m\u001b[38;5;241m.\u001b[39mapi_key \u001b[38;5;129;01mis\u001b[39;00m \u001b[38;5;28;01mNone\u001b[39;00m \u001b[38;5;129;01mand\u001b[39;00m _thread_local_api_settings\u001b[38;5;241m.\u001b[39mcookies \u001b[38;5;129;01mis\u001b[39;00m \u001b[38;5;28;01mNone\u001b[39;00m:\n\u001b[0;32m--> 240\u001b[0m     \u001b[43mwandb\u001b[49m\u001b[38;5;241;43m.\u001b[39;49m\u001b[43mlogin\u001b[49m\u001b[43m(\u001b[49m\u001b[43mhost\u001b[49m\u001b[38;5;241;43m=\u001b[39;49m\u001b[43m_overrides\u001b[49m\u001b[38;5;241;43m.\u001b[39;49m\u001b[43mget\u001b[49m\u001b[43m(\u001b[49m\u001b[38;5;124;43m\"\u001b[39;49m\u001b[38;5;124;43mbase_url\u001b[39;49m\u001b[38;5;124;43m\"\u001b[39;49m\u001b[43m)\u001b[49m\u001b[43m)\u001b[49m\n\u001b[1;32m    241\u001b[0m \u001b[38;5;28mself\u001b[39m\u001b[38;5;241m.\u001b[39msettings\u001b[38;5;241m.\u001b[39mupdate(_overrides)\n\u001b[1;32m    242\u001b[0m \u001b[38;5;28;01mif\u001b[39;00m \u001b[38;5;124m\"\u001b[39m\u001b[38;5;124musername\u001b[39m\u001b[38;5;124m\"\u001b[39m \u001b[38;5;129;01min\u001b[39;00m _overrides \u001b[38;5;129;01mand\u001b[39;00m \u001b[38;5;124m\"\u001b[39m\u001b[38;5;124mentity\u001b[39m\u001b[38;5;124m\"\u001b[39m \u001b[38;5;129;01mnot\u001b[39;00m \u001b[38;5;129;01min\u001b[39;00m _overrides:\n",
      "File \u001b[0;32m~/.local/lib/python3.12/site-packages/wandb/sdk/wandb_login.py:84\u001b[0m, in \u001b[0;36mlogin\u001b[0;34m(anonymous, key, relogin, host, force, timeout, verify)\u001b[0m\n\u001b[1;32m     81\u001b[0m \u001b[38;5;28;01mif\u001b[39;00m wandb\u001b[38;5;241m.\u001b[39msetup()\u001b[38;5;241m.\u001b[39m_settings\u001b[38;5;241m.\u001b[39m_noop:\n\u001b[1;32m     82\u001b[0m     \u001b[38;5;28;01mreturn\u001b[39;00m \u001b[38;5;28;01mTrue\u001b[39;00m\n\u001b[0;32m---> 84\u001b[0m configured \u001b[38;5;241m=\u001b[39m \u001b[43m_login\u001b[49m\u001b[43m(\u001b[49m\n\u001b[1;32m     85\u001b[0m \u001b[43m    \u001b[49m\u001b[43manonymous\u001b[49m\u001b[38;5;241;43m=\u001b[39;49m\u001b[43manonymous\u001b[49m\u001b[43m,\u001b[49m\n\u001b[1;32m     86\u001b[0m \u001b[43m    \u001b[49m\u001b[43mkey\u001b[49m\u001b[38;5;241;43m=\u001b[39;49m\u001b[43mkey\u001b[49m\u001b[43m,\u001b[49m\n\u001b[1;32m     87\u001b[0m \u001b[43m    \u001b[49m\u001b[43mrelogin\u001b[49m\u001b[38;5;241;43m=\u001b[39;49m\u001b[43mrelogin\u001b[49m\u001b[43m,\u001b[49m\n\u001b[1;32m     88\u001b[0m \u001b[43m    \u001b[49m\u001b[43mhost\u001b[49m\u001b[38;5;241;43m=\u001b[39;49m\u001b[43mhost\u001b[49m\u001b[43m,\u001b[49m\n\u001b[1;32m     89\u001b[0m \u001b[43m    \u001b[49m\u001b[43mforce\u001b[49m\u001b[38;5;241;43m=\u001b[39;49m\u001b[43mforce\u001b[49m\u001b[43m,\u001b[49m\n\u001b[1;32m     90\u001b[0m \u001b[43m    \u001b[49m\u001b[43mtimeout\u001b[49m\u001b[38;5;241;43m=\u001b[39;49m\u001b[43mtimeout\u001b[49m\u001b[43m,\u001b[49m\n\u001b[1;32m     91\u001b[0m \u001b[43m\u001b[49m\u001b[43m)\u001b[49m\n\u001b[1;32m     93\u001b[0m \u001b[38;5;28;01mif\u001b[39;00m verify:\n\u001b[1;32m     94\u001b[0m     \u001b[38;5;28;01mfrom\u001b[39;00m \u001b[38;5;21;01m.\u001b[39;00m \u001b[38;5;28;01mimport\u001b[39;00m wandb_setup\n",
      "File \u001b[0;32m~/.local/lib/python3.12/site-packages/wandb/sdk/wandb_login.py:346\u001b[0m, in \u001b[0;36m_login\u001b[0;34m(anonymous, key, relogin, host, force, timeout, _backend, _silent, _disable_warning, _entity)\u001b[0m\n\u001b[1;32m    343\u001b[0m     \u001b[38;5;28;01mreturn\u001b[39;00m logged_in\n\u001b[1;32m    345\u001b[0m \u001b[38;5;28;01mif\u001b[39;00m \u001b[38;5;129;01mnot\u001b[39;00m key:\n\u001b[0;32m--> 346\u001b[0m     \u001b[43mwlogin\u001b[49m\u001b[38;5;241;43m.\u001b[39;49m\u001b[43mprompt_api_key\u001b[49m\u001b[43m(\u001b[49m\u001b[43m)\u001b[49m\n\u001b[1;32m    348\u001b[0m \u001b[38;5;28;01mreturn\u001b[39;00m wlogin\u001b[38;5;241m.\u001b[39m_key \u001b[38;5;129;01mor\u001b[39;00m \u001b[38;5;28;01mFalse\u001b[39;00m\n",
      "File \u001b[0;32m~/.local/lib/python3.12/site-packages/wandb/sdk/wandb_login.py:273\u001b[0m, in \u001b[0;36m_WandbLogin.prompt_api_key\u001b[0;34m(self)\u001b[0m\n\u001b[1;32m    271\u001b[0m \u001b[38;5;28;01mdef\u001b[39;00m \u001b[38;5;21mprompt_api_key\u001b[39m(\u001b[38;5;28mself\u001b[39m) \u001b[38;5;241m-\u001b[39m\u001b[38;5;241m>\u001b[39m \u001b[38;5;28;01mNone\u001b[39;00m:\n\u001b[1;32m    272\u001b[0m \u001b[38;5;250m    \u001b[39m\u001b[38;5;124;03m\"\"\"Updates the global API key by prompting the user.\"\"\"\u001b[39;00m\n\u001b[0;32m--> 273\u001b[0m     key, status \u001b[38;5;241m=\u001b[39m \u001b[38;5;28;43mself\u001b[39;49m\u001b[38;5;241;43m.\u001b[39;49m\u001b[43m_prompt_api_key\u001b[49m\u001b[43m(\u001b[49m\u001b[43m)\u001b[49m\n\u001b[1;32m    274\u001b[0m     \u001b[38;5;28;01mif\u001b[39;00m status \u001b[38;5;241m==\u001b[39m ApiKeyStatus\u001b[38;5;241m.\u001b[39mNOTTY:\n\u001b[1;32m    275\u001b[0m         directive \u001b[38;5;241m=\u001b[39m (\n\u001b[1;32m    276\u001b[0m             \u001b[38;5;124m\"\u001b[39m\u001b[38;5;124mwandb login [your_api_key]\u001b[39m\u001b[38;5;124m\"\u001b[39m\n\u001b[1;32m    277\u001b[0m             \u001b[38;5;28;01mif\u001b[39;00m \u001b[38;5;28mself\u001b[39m\u001b[38;5;241m.\u001b[39m_settings\u001b[38;5;241m.\u001b[39m_cli_only_mode\n\u001b[1;32m    278\u001b[0m             \u001b[38;5;28;01melse\u001b[39;00m \u001b[38;5;124m\"\u001b[39m\u001b[38;5;124mwandb.login(key=[your_api_key])\u001b[39m\u001b[38;5;124m\"\u001b[39m\n\u001b[1;32m    279\u001b[0m         )\n",
      "File \u001b[0;32m~/.local/lib/python3.12/site-packages/wandb/sdk/wandb_login.py:252\u001b[0m, in \u001b[0;36m_WandbLogin._prompt_api_key\u001b[0;34m(self)\u001b[0m\n\u001b[1;32m    250\u001b[0m \u001b[38;5;28;01mwhile\u001b[39;00m \u001b[38;5;28;01mTrue\u001b[39;00m:\n\u001b[1;32m    251\u001b[0m     \u001b[38;5;28;01mtry\u001b[39;00m:\n\u001b[0;32m--> 252\u001b[0m         key \u001b[38;5;241m=\u001b[39m \u001b[43mapikey\u001b[49m\u001b[38;5;241;43m.\u001b[39;49m\u001b[43mprompt_api_key\u001b[49m\u001b[43m(\u001b[49m\n\u001b[1;32m    253\u001b[0m \u001b[43m            \u001b[49m\u001b[38;5;28;43mself\u001b[39;49m\u001b[38;5;241;43m.\u001b[39;49m\u001b[43m_settings\u001b[49m\u001b[43m,\u001b[49m\n\u001b[1;32m    254\u001b[0m \u001b[43m            \u001b[49m\u001b[43mapi\u001b[49m\u001b[38;5;241;43m=\u001b[39;49m\u001b[43mapi\u001b[49m\u001b[43m,\u001b[49m\n\u001b[1;32m    255\u001b[0m \u001b[43m            \u001b[49m\u001b[43mno_offline\u001b[49m\u001b[38;5;241;43m=\u001b[39;49m\u001b[38;5;28;43mself\u001b[39;49m\u001b[38;5;241;43m.\u001b[39;49m\u001b[43m_settings\u001b[49m\u001b[38;5;241;43m.\u001b[39;49m\u001b[43mforce\u001b[49m\u001b[43m \u001b[49m\u001b[38;5;28;43;01mif\u001b[39;49;00m\u001b[43m \u001b[49m\u001b[38;5;28;43mself\u001b[39;49m\u001b[38;5;241;43m.\u001b[39;49m\u001b[43m_settings\u001b[49m\u001b[43m \u001b[49m\u001b[38;5;28;43;01melse\u001b[39;49;00m\u001b[43m \u001b[49m\u001b[38;5;28;43;01mNone\u001b[39;49;00m\u001b[43m,\u001b[49m\n\u001b[1;32m    256\u001b[0m \u001b[43m            \u001b[49m\u001b[43mno_create\u001b[49m\u001b[38;5;241;43m=\u001b[39;49m\u001b[38;5;28;43mself\u001b[39;49m\u001b[38;5;241;43m.\u001b[39;49m\u001b[43m_settings\u001b[49m\u001b[38;5;241;43m.\u001b[39;49m\u001b[43mforce\u001b[49m\u001b[43m \u001b[49m\u001b[38;5;28;43;01mif\u001b[39;49;00m\u001b[43m \u001b[49m\u001b[38;5;28;43mself\u001b[39;49m\u001b[38;5;241;43m.\u001b[39;49m\u001b[43m_settings\u001b[49m\u001b[43m \u001b[49m\u001b[38;5;28;43;01melse\u001b[39;49;00m\u001b[43m \u001b[49m\u001b[38;5;28;43;01mNone\u001b[39;49;00m\u001b[43m,\u001b[49m\n\u001b[1;32m    257\u001b[0m \u001b[43m        \u001b[49m\u001b[43m)\u001b[49m\n\u001b[1;32m    258\u001b[0m     \u001b[38;5;28;01mexcept\u001b[39;00m \u001b[38;5;167;01mValueError\u001b[39;00m \u001b[38;5;28;01mas\u001b[39;00m e:\n\u001b[1;32m    259\u001b[0m         \u001b[38;5;66;03m# invalid key provided, try again\u001b[39;00m\n\u001b[1;32m    260\u001b[0m         wandb\u001b[38;5;241m.\u001b[39mtermerror(e\u001b[38;5;241m.\u001b[39margs[\u001b[38;5;241m0\u001b[39m])\n",
      "File \u001b[0;32m~/.local/lib/python3.12/site-packages/wandb/sdk/lib/apikey.py:164\u001b[0m, in \u001b[0;36mprompt_api_key\u001b[0;34m(settings, api, input_callback, browser_callback, no_offline, no_create, local)\u001b[0m\n\u001b[1;32m    158\u001b[0m         wandb\u001b[38;5;241m.\u001b[39mtermlog(\n\u001b[1;32m    159\u001b[0m             \u001b[38;5;124mf\u001b[39m\u001b[38;5;124m\"\u001b[39m\u001b[38;5;124mLogging into \u001b[39m\u001b[38;5;132;01m{\u001b[39;00mhost\u001b[38;5;132;01m}\u001b[39;00m\u001b[38;5;124m. (Learn how to deploy a W&B server locally: \u001b[39m\u001b[38;5;132;01m{\u001b[39;00mwburls\u001b[38;5;241m.\u001b[39mget(\u001b[38;5;124m'\u001b[39m\u001b[38;5;124mwandb_server\u001b[39m\u001b[38;5;124m'\u001b[39m)\u001b[38;5;132;01m}\u001b[39;00m\u001b[38;5;124m)\u001b[39m\u001b[38;5;124m\"\u001b[39m\n\u001b[1;32m    160\u001b[0m         )\n\u001b[1;32m    161\u001b[0m     wandb\u001b[38;5;241m.\u001b[39mtermlog(\n\u001b[1;32m    162\u001b[0m         \u001b[38;5;124mf\u001b[39m\u001b[38;5;124m\"\u001b[39m\u001b[38;5;124mYou can find your API key in your browser here: \u001b[39m\u001b[38;5;132;01m{\u001b[39;00mapp_url\u001b[38;5;132;01m}\u001b[39;00m\u001b[38;5;124m/authorize\u001b[39m\u001b[38;5;124m\"\u001b[39m\n\u001b[1;32m    163\u001b[0m     )\n\u001b[0;32m--> 164\u001b[0m     key \u001b[38;5;241m=\u001b[39m \u001b[43minput_callback\u001b[49m\u001b[43m(\u001b[49m\u001b[43mapi_ask\u001b[49m\u001b[43m)\u001b[49m\u001b[38;5;241m.\u001b[39mstrip()\n\u001b[1;32m    165\u001b[0m write_key(settings, key, api\u001b[38;5;241m=\u001b[39mapi)\n\u001b[1;32m    166\u001b[0m \u001b[38;5;28;01mreturn\u001b[39;00m key  \u001b[38;5;66;03m# type: ignore\u001b[39;00m\n",
      "File \u001b[0;32m/usr/lib/python3.12/site-packages/click/termui.py:164\u001b[0m, in \u001b[0;36mprompt\u001b[0;34m(text, default, hide_input, confirmation_prompt, type, value_proc, prompt_suffix, show_default, err, show_choices)\u001b[0m\n\u001b[1;32m    162\u001b[0m \u001b[38;5;28;01mwhile\u001b[39;00m \u001b[38;5;28;01mTrue\u001b[39;00m:\n\u001b[1;32m    163\u001b[0m     \u001b[38;5;28;01mwhile\u001b[39;00m \u001b[38;5;28;01mTrue\u001b[39;00m:\n\u001b[0;32m--> 164\u001b[0m         value \u001b[38;5;241m=\u001b[39m \u001b[43mprompt_func\u001b[49m\u001b[43m(\u001b[49m\u001b[43mprompt\u001b[49m\u001b[43m)\u001b[49m\n\u001b[1;32m    165\u001b[0m         \u001b[38;5;28;01mif\u001b[39;00m value:\n\u001b[1;32m    166\u001b[0m             \u001b[38;5;28;01mbreak\u001b[39;00m\n",
      "File \u001b[0;32m/usr/lib/python3.12/site-packages/click/termui.py:147\u001b[0m, in \u001b[0;36mprompt.<locals>.prompt_func\u001b[0;34m(text)\u001b[0m\n\u001b[1;32m    145\u001b[0m \u001b[38;5;28;01mif\u001b[39;00m hide_input:\n\u001b[1;32m    146\u001b[0m     echo(\u001b[38;5;28;01mNone\u001b[39;00m, err\u001b[38;5;241m=\u001b[39merr)\n\u001b[0;32m--> 147\u001b[0m \u001b[38;5;28;01mraise\u001b[39;00m Abort() \u001b[38;5;28;01mfrom\u001b[39;00m \u001b[38;5;28;01mNone\u001b[39;00m\n",
      "\u001b[0;31mAbort\u001b[0m: "
     ]
    }
   ],
   "source": [
    "# for loading data from a previous run, supply the run name in the following format:\n",
    "wandb_run_name = 'kryjak-None/pivotal_adv_attacks/nepwz08b'\n",
    "wandb_run_id = wandb_run_name.split('/')[-1]\n",
    "load_data_from_wandb(wandb_run_name)"
   ]
  },
  {
   "cell_type": "code",
   "execution_count": null,
   "metadata": {},
   "outputs": [],
   "source": [
    "wandb_api = wandb.Api()\n",
    "run = wandb_api.run(wandb_run_name)\n",
    "# print(run.summary)\n",
    "# print(run.config)\n",
    "history = run.history()\n",
    "print(history.columns)"
   ]
  },
  {
   "cell_type": "code",
   "execution_count": null,
   "metadata": {},
   "outputs": [],
   "source": [
    "# artifact = wandb_api.artifact('kryjak-None/pivotal_adv_attacks/jailbreak_data:v3')\n",
    "# artifact.download(path_prefix=\"jailbreak_completions\")\n",
    "# test_table = artifact.get(\"jailbreak_completions\")\n",
    "# df = pd.DataFrame(data=test_table.data, columns=test_table.columns)"
   ]
  },
  {
   "cell_type": "code",
   "execution_count": null,
   "metadata": {},
   "outputs": [],
   "source": [
    "df_train = pd.read_csv(os.path.join(PATH_TO_DATASETS, 'advbench_mini_train.csv'), index_col=0)\n",
    "df_test = pd.read_csv(os.path.join(PATH_TO_DATASETS, 'advbench_mini_test.csv'), index_col=0)\n",
    "df_test.head()"
   ]
  },
  {
   "cell_type": "code",
   "execution_count": null,
   "metadata": {},
   "outputs": [],
   "source": [
    "# prompts\n",
    "train_goals = df_train['goal'].to_list()\n",
    "test_goals = df_test['goal'].to_list()\n",
    "train_goal_single = train_goals[:1]\n",
    "test_goal_single = test_goals[:1]\n",
    "# targets\n",
    "train_targets = df_train['target'].to_list()\n",
    "test_targets = df_test['target'].to_list()\n",
    "# targets need to be tokenized: [[str1, str2,...], [str1, str2,...], ...]\n",
    "train_targets_tokenized = [[tokenizer.decode(token) for token in tokenizer.encode(target, add_special_tokens=False)] for target in train_targets]\n",
    "test_targets_tokenized = [[tokenizer.decode(token) for token in tokenizer.encode(target, add_special_tokens=False)] for target in test_targets]\n",
    "train_target_tokenized_single = train_targets_tokenized[0]\n",
    "test_target_tokenized_single = test_targets_tokenized[0]"
   ]
  },
  {
   "cell_type": "code",
   "execution_count": null,
   "metadata": {},
   "outputs": [],
   "source": [
    "jailbreak_attack = JailbreakAttack(jailbreak_config + wandb_config, model, processor, wandb_name='test')\n",
    "\n",
    "delta, loss_train = jailbreak_attack.train(\n",
    "                                          # prompts=train_goal_single,\n",
    "                                          prompts=train_goals,\n",
    "                                          images=[img],\n",
    "                                        # targets=train_target_tokenized_single,\n",
    "                                          targets=train_targets_tokenized,\n",
    "                                          training_method='teacher_forcing',\n",
    "                                          use_cache=False,\n",
    "                                          batch_size=1,\n",
    "                                          )\n",
    "\n",
    "max_memory_used = t.cuda.max_memory_allocated() / 1024**3\n",
    "wandb.log({'max_memory_used': max_memory_used})\n",
    "print(f'Max memory used during the run: {max_memory_used} GB')\n",
    "t.cuda.reset_peak_memory_stats()\n",
    "\n",
    "jailbreak_attack.finish_wandb()"
   ]
  },
  {
   "cell_type": "code",
   "execution_count": null,
   "metadata": {},
   "outputs": [],
   "source": [
    "_, answer_auto_pil = jailbreak_attack.execute(prompt=test_goals[0], image=None, delta=delta, generation_method='automatic_with_pil', max_new_tokens=7, no_eos_token=False, do_sample=True, top_p=0.95, top_k=20)\n",
    "_, answer_auto = jailbreak_attack.execute(prompt=test_goals[0], image=None, delta=delta, generation_method='automatic', max_new_tokens=7, no_eos_token=False, do_sample=True, top_p=0.95, top_k=20)\n",
    "_, answer_manual = jailbreak_attack.execute(prompt=test_goals[0], image=None, delta=delta, generation_method='manual', max_new_tokens=7, no_eos_token=True, use_cache=False, do_sample=True, top_p=0.95, top_k=20)\n",
    "\n",
    "print(answer_auto_pil)\n",
    "print('----------------------')\n",
    "print(answer_auto)\n",
    "print('----------------------')\n",
    "print(''.join(answer_manual))"
   ]
  },
  {
   "cell_type": "code",
   "execution_count": null,
   "metadata": {},
   "outputs": [],
   "source": [
    "# _, answer_auto_pil = jailbreak_attack.execute_with_clamp(prompt=test_goals[1], image=None, delta=delta, generation_method='automatic_with_pil', max_new_tokens=500, no_eos_token=True, do_sample=True, top_p=0.95, top_k=50, no_repeat_ngram_size=10)\n",
    "# _, answer_auto = jailbreak_attack.execute_with_clamp(prompt=test_goals[1], image=None, delta=delta, generation_method='automatic', max_new_tokens=500, no_eos_token=True, do_sample=True, top_p=0.95, top_k=50, no_repeat_ngram_size=10)\n",
    "_, answer_auto_pil = jailbreak_attack.execute_with_clamp(prompt=test_goals[1], image=None, delta=delta, generation_method='automatic_with_pil', max_new_tokens=500, no_eos_token=True, do_sample=True, top_k=2, no_repeat_ngram_size=6)\n",
    "_, answer_auto = jailbreak_attack.execute_with_clamp(prompt=test_goals[1], image=None, delta=delta, generation_method='automatic', max_new_tokens=500, no_eos_token=True, do_sample=True, top_k=2, no_repeat_ngram_size=6)\n",
    "# _, answer_manual = jailbreak_attack.execute_with_clamp(prompt=test_goals[1], image=None, delta=delta, generation_method='manual', max_new_tokens=500, no_eos_token=False, use_cache=False, do_sample=True, top_p=0.95, top_k=20)\n",
    "\n",
    "print(answer_auto_pil)\n",
    "print('----------------------')\n",
    "print(answer_auto)\n",
    "print('----------------------')\n",
    "# print(''.join(answer_manual))"
   ]
  },
  {
   "cell_type": "markdown",
   "metadata": {},
   "source": [
    "## Augmentation attack"
   ]
  },
  {
   "cell_type": "code",
   "execution_count": null,
   "metadata": {},
   "outputs": [],
   "source": [
    "augmentations = {'noise_strength': 1e-1,\n",
    "                'max_jitter_ratio': 0.01,\n",
    "                'contrast_range': (0.9, 1.1),\n",
    "                'sharpness_factor': 'random',\n",
    "                'grayscale_prob': 0.1,\n",
    "                'seed': 42}\n",
    "\n",
    "transform = CustomTransforms(**augmentations)"
   ]
  },
  {
   "cell_type": "code",
   "execution_count": null,
   "metadata": {},
   "outputs": [],
   "source": [
    "test_image = transforms.ToTensor()(img).to(t.bfloat16).to(DEVICE).requires_grad_(True)\n",
    "transformed_image = transform(test_image)\n",
    "transforms.ToPILImage()(transformed_image.detach().cpu().float())"
   ]
  },
  {
   "cell_type": "code",
   "execution_count": null,
   "metadata": {},
   "outputs": [],
   "source": [
    "augmentation_attack = JailbreakAttack(jailbreak_config + wandb_config, model, processor, wandb_run_id=wandb_run_id, wandb_name='augmentations')\n",
    "augmentation_attack.test_dataset(delta=delta, df_test=df_train, max_new_tokens=500, no_eos_token=False, use_cache=False, do_sample=True, top_k=2, no_repeat_ngram_size=6)\n",
    "# augmentation_attack.eval_dataset(max_new_tokens=100, no_eos_token=True, use_cache=False, do_sample=True, top_k=2, no_repeat_ngram_size=6)\n",
    "augmentation_attack.finish_wandb()"
   ]
  },
  {
   "cell_type": "code",
   "execution_count": null,
   "metadata": {},
   "outputs": [],
   "source": [
    "test_image = transforms.ToTensor()(img).to(t.bfloat16).to(DEVICE).requires_grad_(True)\n",
    "optimizer = t.optim.AdamW([test_image], lr=1e-1, weight_decay=0.0)\n",
    "\n",
    "losses = []\n",
    "for step in range(500):\n",
    "    optimizer.zero_grad()\n",
    "    # print .grad values for one transformation at a time\n",
    "\n",
    "    # transformed_image = test_image\n",
    "    transformed_image = transform(test_image)\n",
    "    loss = transformed_image.std()\n",
    "    losses.append(loss.item())\n",
    "    loss.backward()\n",
    "    if step % 10 == 0:\n",
    "        # print(f'Grad norm: {test_image.grad.mean().item()}')\n",
    "        print(f'loss = {loss}')\n",
    "\n",
    "    optimizer.step()\n",
    "\n",
    "plt.plot(losses)"
   ]
  },
  {
   "cell_type": "code",
   "execution_count": null,
   "metadata": {},
   "outputs": [],
   "source": [
    "wandb.log({'max_memory_used': max_memory_used})\n",
    "print(f'Max memory used during the run: {max_memory_used} GB')\n",
    "wandb.log({'augmentations': augmentations})\n",
    "t.cuda.reset_peak_memory_stats()"
   ]
  },
  {
   "cell_type": "code",
   "execution_count": null,
   "metadata": {},
   "outputs": [],
   "source": [
    "transforms.ToPILImage()(transformed_image.detach().cpu().float())"
   ]
  }
 ],
 "metadata": {
  "kernelspec": {
   "display_name": "Python 3",
   "language": "python",
   "name": "python3"
  },
  "language_info": {
   "codemirror_mode": {
    "name": "ipython",
    "version": 3
   },
   "file_extension": ".py",
   "mimetype": "text/x-python",
   "name": "python",
   "nbconvert_exporter": "python",
   "pygments_lexer": "ipython3",
   "version": "3.12.6"
  }
 },
 "nbformat": 4,
 "nbformat_minor": 2
}
