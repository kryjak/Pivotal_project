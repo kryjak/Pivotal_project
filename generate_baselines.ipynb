{
 "cells": [
  {
   "cell_type": "markdown",
   "metadata": {},
   "source": [
    "# Baselines"
   ]
  },
  {
   "cell_type": "code",
   "execution_count": null,
   "metadata": {},
   "outputs": [],
   "source": [
    "import pandas as pd\n",
    "import os\n",
    "import wandb\n",
    "from VLM_base_classes import DeepSeekVLBaseClass, LlavaBaseClass\n",
    "from models import load_model\n",
    "from config import PATH_TO_DATASETS"
   ]
  },
  {
   "cell_type": "code",
   "execution_count": null,
   "metadata": {},
   "outputs": [],
   "source": [
    "model_name = \"DeepSeek_VL\"\n",
    "model, processor = load_model(model_name)"
   ]
  },
  {
   "cell_type": "code",
   "execution_count": null,
   "metadata": {},
   "outputs": [],
   "source": [
    "if model_name == \"DeepSeek_VL\":\n",
    "    baseclass = DeepSeekVLBaseClass\n",
    "elif model_name == \"LlaVa\":\n",
    "    baseclass = LlavaBaseClass\n",
    "\n",
    "baseline = baseclass(model=model, processor=processor)"
   ]
  },
  {
   "cell_type": "code",
   "execution_count": null,
   "metadata": {},
   "outputs": [],
   "source": [
    "df_train = pd.read_csv(\n",
    "    os.path.join(PATH_TO_DATASETS, \"advbench_mini_train.csv\"), index_col=0\n",
    ")\n",
    "df_test = pd.read_csv(\n",
    "    os.path.join(PATH_TO_DATASETS, \"advbench_mini_test.csv\"), index_col=0\n",
    ")\n",
    "df_test.head()"
   ]
  },
  {
   "cell_type": "code",
   "execution_count": null,
   "metadata": {},
   "outputs": [],
   "source": [
    "df_train_copy = df_train.copy()\n",
    "df_test_copy = df_test.copy()\n",
    "\n",
    "df_train_copy[\"baseline_automatic\"] = \"\"\n",
    "df_test_copy[\"baseline_automatic\"] = \"\"\n",
    "df_train_copy[\"baseline_manual\"] = \"\"\n",
    "df_test_copy[\"baseline_manual\"] = \"\""
   ]
  },
  {
   "cell_type": "code",
   "execution_count": null,
   "metadata": {},
   "outputs": [],
   "source": [
    "max_new_tokens = 500\n",
    "\n",
    "run = wandb.init(project=\"datasets\", job_type=\"upload_dataset\")\n",
    "baselines_artifact = wandb.Artifact(\"baselines_advbench_mini\", type=\"baselines\")\n",
    "\n",
    "for ind in df_test.index:\n",
    "    prompt = str(df_test.loc[ind, \"goal\"])\n",
    "    _, answer = baseline.generate_autoregressive(\n",
    "        prompt=prompt, image=None, max_new_tokens=max_new_tokens, no_eos_token=False\n",
    "    )\n",
    "    _, answer_manual = baseline.generate_autoregressive_manual(\n",
    "        prompt=prompt,\n",
    "        image=None,\n",
    "        use_cache=False,\n",
    "        max_new_tokens=max_new_tokens,\n",
    "        no_eos_token=False,\n",
    "    )\n",
    "\n",
    "    df_test_copy.loc[ind, \"baseline_automatic\"] = answer\n",
    "    df_test_copy.loc[ind, \"baseline_manual\"] = \"\".join(answer_manual)\n",
    "\n",
    "table_scores_test = wandb.Table(dataframe=df_test_copy)\n",
    "baselines_artifact.add(table_scores_test, name=\"baselines_test\")\n",
    "\n",
    "for ind in df_train.index:\n",
    "    prompt = str(df_train.loc[ind, \"goal\"])\n",
    "    _, answer = baseline.generate_autoregressive(\n",
    "        prompt=prompt, image=None, max_new_tokens=max_new_tokens, no_eos_token=False\n",
    "    )\n",
    "    _, answer_manual = baseline.generate_autoregressive_manual(\n",
    "        prompt=prompt,\n",
    "        image=None,\n",
    "        use_cache=False,\n",
    "        max_new_tokens=max_new_tokens,\n",
    "        no_eos_token=False,\n",
    "    )\n",
    "\n",
    "    df_train_copy.loc[ind, \"baseline_automatic\"] = answer\n",
    "    df_train_copy.loc[ind, \"baseline_manual\"] = \"\".join(answer_manual)\n",
    "\n",
    "table_scores_train = wandb.Table(dataframe=df_train_copy)\n",
    "baselines_artifact.add(table_scores_train, name=\"baselines_train\")\n",
    "\n",
    "run.log_artifact(baselines_artifact)\n",
    "run.finish()\n",
    "\n",
    "path_to_results = os.path.join(PATH_TO_DATASETS, \"results\")\n",
    "df_train_copy.to_csv(os.path.join(path_to_results, \"advbench_mini_train_baseline.csv\"))\n",
    "df_test_copy.to_csv(os.path.join(path_to_results, \"advbench_mini_test_baseline.csv\"))"
   ]
  }
 ],
 "metadata": {
  "kernelspec": {
   "display_name": "Python 3",
   "language": "python",
   "name": "python3"
  },
  "language_info": {
   "codemirror_mode": {
    "name": "ipython",
    "version": 3
   },
   "file_extension": ".py",
   "mimetype": "text/x-python",
   "name": "python",
   "nbconvert_exporter": "python",
   "pygments_lexer": "ipython3",
   "version": "3.12.7"
  }
 },
 "nbformat": 4,
 "nbformat_minor": 2
}
